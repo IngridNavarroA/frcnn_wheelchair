{
 "cells": [
  {
   "cell_type": "markdown",
   "metadata": {},
   "source": [
    "# Wheelchair Detection Test (Video)\n",
    "\n",
    "In this project, I present a Faster RCNN-based wheelchair detection system. This code performs test on video. \n",
    "\n",
    "**Need to fix a lot of redundant stuff**"
   ]
  },
  {
   "cell_type": "code",
   "execution_count": 1,
   "metadata": {},
   "outputs": [
    {
     "ename": "ImportError",
     "evalue": "No module named cv2",
     "output_type": "error",
     "traceback": [
      "\u001b[0;31m---------------------------------------------------------------------------\u001b[0m",
      "\u001b[0;31mImportError\u001b[0m                               Traceback (most recent call last)",
      "\u001b[0;32m<ipython-input-1-35faa76c77d5>\u001b[0m in \u001b[0;36m<module>\u001b[0;34m()\u001b[0m\n\u001b[1;32m      2\u001b[0m \u001b[0;34m\u001b[0m\u001b[0m\n\u001b[1;32m      3\u001b[0m \u001b[0;31m# modules from faster rcnn\u001b[0m\u001b[0;34m\u001b[0m\u001b[0;34m\u001b[0m\u001b[0m\n\u001b[0;32m----> 4\u001b[0;31m \u001b[0;32mfrom\u001b[0m \u001b[0mfrcnn\u001b[0m \u001b[0;32mimport\u001b[0m \u001b[0mroi_helpers\u001b[0m\u001b[0;34m\u001b[0m\u001b[0m\n\u001b[0m\u001b[1;32m      5\u001b[0m \u001b[0;32mfrom\u001b[0m \u001b[0mfrcnn\u001b[0m \u001b[0;32mimport\u001b[0m \u001b[0mconfig\u001b[0m\u001b[0;34m\u001b[0m\u001b[0m\n\u001b[1;32m      6\u001b[0m \u001b[0;34m\u001b[0m\u001b[0m\n",
      "\u001b[0;32m/home/inavarro/Desktop/Workspace/ml/TensorFlow/keras-frcnn/frcnn/roi_helpers.py\u001b[0m in \u001b[0;36m<module>\u001b[0;34m()\u001b[0m\n\u001b[1;32m      2\u001b[0m \u001b[0;32mimport\u001b[0m \u001b[0mpdb\u001b[0m\u001b[0;34m\u001b[0m\u001b[0m\n\u001b[1;32m      3\u001b[0m \u001b[0;32mimport\u001b[0m \u001b[0mmath\u001b[0m\u001b[0;34m\u001b[0m\u001b[0m\n\u001b[0;32m----> 4\u001b[0;31m \u001b[0;32mfrom\u001b[0m \u001b[0;34m.\u001b[0m \u001b[0;32mimport\u001b[0m \u001b[0mdata_generators\u001b[0m\u001b[0;34m\u001b[0m\u001b[0m\n\u001b[0m\u001b[1;32m      5\u001b[0m \u001b[0;32mimport\u001b[0m \u001b[0mcopy\u001b[0m\u001b[0;34m\u001b[0m\u001b[0m\n\u001b[1;32m      6\u001b[0m \u001b[0;34m\u001b[0m\u001b[0m\n",
      "\u001b[0;32m/home/inavarro/Desktop/Workspace/ml/TensorFlow/keras-frcnn/frcnn/data_generators.py\u001b[0m in \u001b[0;36m<module>\u001b[0;34m()\u001b[0m\n\u001b[1;32m      1\u001b[0m \u001b[0;32mfrom\u001b[0m \u001b[0m__future__\u001b[0m \u001b[0;32mimport\u001b[0m \u001b[0mabsolute_import\u001b[0m\u001b[0;34m\u001b[0m\u001b[0m\n\u001b[1;32m      2\u001b[0m \u001b[0;32mimport\u001b[0m \u001b[0mnumpy\u001b[0m \u001b[0;32mas\u001b[0m \u001b[0mnp\u001b[0m\u001b[0;34m\u001b[0m\u001b[0m\n\u001b[0;32m----> 3\u001b[0;31m \u001b[0;32mimport\u001b[0m \u001b[0mcv2\u001b[0m\u001b[0;34m\u001b[0m\u001b[0m\n\u001b[0m\u001b[1;32m      4\u001b[0m \u001b[0;32mimport\u001b[0m \u001b[0mrandom\u001b[0m\u001b[0;34m\u001b[0m\u001b[0m\n\u001b[1;32m      5\u001b[0m \u001b[0;32mimport\u001b[0m \u001b[0mcopy\u001b[0m\u001b[0;34m\u001b[0m\u001b[0m\n",
      "\u001b[0;31mImportError\u001b[0m: No module named cv2"
     ]
    }
   ],
   "source": [
    "from __future__ import division\n",
    "\n",
    "# modules from faster rcnn \n",
    "from frcnn import roi_helpers\n",
    "from frcnn import config\n",
    "\n",
    "# modules from keras\n",
    "from keras import backend as K\n",
    "from keras.layers import Input\n",
    "from keras.models import Model\n",
    "\n",
    "# other modules\n",
    "import os\n",
    "import cv2\n",
    "import numpy as np\n",
    "import sys\n",
    "import pickle\n",
    "from optparse import OptionParser\n",
    "import time\n",
    "\n",
    "# np.set_printoptions(threshold='nan')\n",
    "sys.setrecursionlimit(40000)"
   ]
  },
  {
   "cell_type": "markdown",
   "metadata": {},
   "source": [
    "# Options"
   ]
  },
  {
   "cell_type": "code",
   "execution_count": null,
   "metadata": {
    "collapsed": true
   },
   "outputs": [],
   "source": [
    "# specifying the training path where the csv file is\n",
    "test_path = 'images/wheelchair_videos/'\n",
    "\n",
    "# number of rois to process at once\n",
    "num_rois = 10\n",
    "\n",
    "# specify the newtork to use, currently only vgg and resnet are supported\n",
    "network = 'resnet50'\n",
    "# network = 'vgg'\n",
    "\n",
    "# verify that arguments were specified correctly. \n",
    "if not test_path: raise Error('Error: specify path or verify it exists.')\n",
    "    \n",
    "# data augmentation \n",
    "horizontal_flips = False\n",
    "vertical_flips = False\n",
    "rot_90 = False"
   ]
  },
  {
   "cell_type": "markdown",
   "metadata": {},
   "source": [
    "# Configuration "
   ]
  },
  {
   "cell_type": "code",
   "execution_count": 2,
   "metadata": {},
   "outputs": [
    {
     "ename": "NameError",
     "evalue": "name 'pickle' is not defined",
     "output_type": "error",
     "traceback": [
      "\u001b[0;31m---------------------------------------------------------------------------\u001b[0m",
      "\u001b[0;31mNameError\u001b[0m                                 Traceback (most recent call last)",
      "\u001b[0;32m<ipython-input-2-76786d7feac2>\u001b[0m in \u001b[0;36m<module>\u001b[0;34m()\u001b[0m\n\u001b[1;32m      1\u001b[0m \u001b[0mconfig_output_filename\u001b[0m \u001b[0;34m=\u001b[0m \u001b[0;34m'config.pickle'\u001b[0m\u001b[0;34m\u001b[0m\u001b[0m\n\u001b[1;32m      2\u001b[0m \u001b[0;34m\u001b[0m\u001b[0m\n\u001b[0;32m----> 3\u001b[0;31m \u001b[0;32mwith\u001b[0m \u001b[0mopen\u001b[0m\u001b[0;34m(\u001b[0m\u001b[0mconfig_output_filename\u001b[0m\u001b[0;34m,\u001b[0m \u001b[0;34m'rb'\u001b[0m\u001b[0;34m)\u001b[0m \u001b[0;32mas\u001b[0m \u001b[0mf_in\u001b[0m\u001b[0;34m:\u001b[0m \u001b[0mC\u001b[0m \u001b[0;34m=\u001b[0m \u001b[0mpickle\u001b[0m\u001b[0;34m.\u001b[0m\u001b[0mload\u001b[0m\u001b[0;34m(\u001b[0m\u001b[0mf_in\u001b[0m\u001b[0;34m)\u001b[0m\u001b[0;34m\u001b[0m\u001b[0m\n\u001b[0m\u001b[1;32m      4\u001b[0m \u001b[0;34m\u001b[0m\u001b[0m\n\u001b[1;32m      5\u001b[0m \u001b[0;32mif\u001b[0m \u001b[0mC\u001b[0m\u001b[0;34m.\u001b[0m\u001b[0mnetwork\u001b[0m \u001b[0;34m==\u001b[0m \u001b[0;34m'resnet50'\u001b[0m\u001b[0;34m:\u001b[0m \u001b[0;32mimport\u001b[0m \u001b[0mkeras_frcnn\u001b[0m\u001b[0;34m.\u001b[0m\u001b[0mresnet\u001b[0m \u001b[0;32mas\u001b[0m \u001b[0mnn\u001b[0m\u001b[0;34m\u001b[0m\u001b[0m\n",
      "\u001b[0;31mNameError\u001b[0m: name 'pickle' is not defined"
     ]
    }
   ],
   "source": [
    "config_output_filename = 'config.pickle'\n",
    "\n",
    "with open(config_output_filename, 'rb') as f_in: C = pickle.load(f_in)\n",
    "\n",
    "if C.network == 'resnet50': import keras_frcnn.resnet as nn\n",
    "elif C.network == 'vgg': import keras_frcnn.vgg as nn\n",
    "\n",
    "# turn off any data augmentation at test time\n",
    "C.use_horizontal_flips = horizontal_flips\n",
    "C.use_vertical_flips = vertical_flips\n",
    "C.rot_90 = rot_90\n",
    "\n",
    "img_path = test_path"
   ]
  },
  {
   "cell_type": "markdown",
   "metadata": {},
   "source": [
    "# Format frames\n",
    "\n",
    "Format video frame based on configuration"
   ]
  },
  {
   "cell_type": "code",
   "execution_count": 5,
   "metadata": {
    "collapsed": true
   },
   "outputs": [],
   "source": [
    "# formats the image size based on config \n",
    "def format_frame_size(frame, C):\n",
    "    \n",
    "    # get min size from configuration file and image shape\n",
    "    frame_min_side = float(C.im_size)\n",
    "    (height,width,_) = frame.shape\n",
    "    \n",
    "    # get new sizes based on image ratio\n",
    "    if width <= height:\n",
    "        ratio = frame_min_side / width\n",
    "        new_height = int(ratio * height)\n",
    "        new_width = int(frame_min_side)\n",
    "    else:\n",
    "        ratio = frame_min_side / height\n",
    "        new_width = int(ratio * width)\n",
    "        new_height = int(frame_min_side)\n",
    "    \n",
    "    # resize image \n",
    "    frame = cv2.resize(frame, (new_width, new_height), interpolation=cv2.INTER_CUBIC)\n",
    "    \n",
    "    return frame, ratio"
   ]
  },
  {
   "cell_type": "markdown",
   "metadata": {},
   "source": [
    "Format frame channels"
   ]
  },
  {
   "cell_type": "code",
   "execution_count": 4,
   "metadata": {
    "collapsed": true
   },
   "outputs": [],
   "source": [
    "def format_frame_channels(frame, C):\n",
    "    \n",
    "    # change channels\n",
    "    frame = frame[:, :, (2, 1, 0)]\n",
    "    frame = frame.astype(np.float32)\n",
    "    \n",
    "    # zero center\n",
    "    frame[:, :, 0] -= C.img_channel_mean[0]\n",
    "    frame[:, :, 1] -= C.img_channel_mean[1]\n",
    "    frame[:, :, 2] -= C.img_channel_mean[2]\n",
    "    \n",
    "    # scale and transpose channels\n",
    "    frame /= C.img_scaling_factor\n",
    "    frame = np.transpose(frame, (2, 0, 1))\n",
    "    frame = np.expand_dims(frame, axis=0)\n",
    "    \n",
    "    return frame"
   ]
  },
  {
   "cell_type": "markdown",
   "metadata": {},
   "source": [
    "Function to call size and channel formatters"
   ]
  },
  {
   "cell_type": "code",
   "execution_count": 6,
   "metadata": {
    "collapsed": true
   },
   "outputs": [],
   "source": [
    "def format_frame(frame, C):\n",
    "    frame, ratio = format_frame_size(frame, C)\n",
    "    frame = format_frame_channels(frame, C)\n",
    "    \n",
    "    return frame, ratio"
   ]
  },
  {
   "cell_type": "markdown",
   "metadata": {},
   "source": [
    "Get real frame coordinates"
   ]
  },
  {
   "cell_type": "code",
   "execution_count": null,
   "metadata": {
    "collapsed": true
   },
   "outputs": [],
   "source": [
    "def get_real_coordinates(ratio, x1, y1, x2, y2):\n",
    "    \n",
    "    real_x1 = int(round(x1 // ratio))\n",
    "    real_y1 = int(round(y1 // ratio))\n",
    "    real_x2 = int(round(x2 // ratio))\n",
    "    real_y2 = int(round(y2 // ratio))\n",
    "    \n",
    "    return (real_x1, real_y1, real_x2, real_y2)"
   ]
  },
  {
   "cell_type": "markdown",
   "metadata": {},
   "source": [
    "More config"
   ]
  },
  {
   "cell_type": "code",
   "execution_count": 7,
   "metadata": {},
   "outputs": [
    {
     "ename": "NameError",
     "evalue": "name 'C' is not defined",
     "output_type": "error",
     "traceback": [
      "\u001b[0;31m---------------------------------------------------------------------------\u001b[0m",
      "\u001b[0;31mNameError\u001b[0m                                 Traceback (most recent call last)",
      "\u001b[0;32m<ipython-input-7-1e40b575d742>\u001b[0m in \u001b[0;36m<module>\u001b[0;34m()\u001b[0m\n\u001b[0;32m----> 1\u001b[0;31m \u001b[0mclass_mapping\u001b[0m \u001b[0;34m=\u001b[0m \u001b[0mC\u001b[0m\u001b[0;34m.\u001b[0m\u001b[0mclass_mapping\u001b[0m\u001b[0;34m\u001b[0m\u001b[0m\n\u001b[0m\u001b[1;32m      2\u001b[0m \u001b[0;34m\u001b[0m\u001b[0m\n\u001b[1;32m      3\u001b[0m \u001b[0;31m# add background class if not included in the class mapping\u001b[0m\u001b[0;34m\u001b[0m\u001b[0;34m\u001b[0m\u001b[0m\n\u001b[1;32m      4\u001b[0m \u001b[0;32mif\u001b[0m \u001b[0;34m'bg'\u001b[0m \u001b[0;32mnot\u001b[0m \u001b[0;32min\u001b[0m \u001b[0mclass_mapping\u001b[0m\u001b[0;34m:\u001b[0m \u001b[0mclass_mapping\u001b[0m\u001b[0;34m[\u001b[0m\u001b[0;34m'bg'\u001b[0m\u001b[0;34m]\u001b[0m \u001b[0;34m=\u001b[0m \u001b[0mlen\u001b[0m\u001b[0;34m(\u001b[0m\u001b[0mclass_mapping\u001b[0m\u001b[0;34m)\u001b[0m\u001b[0;34m\u001b[0m\u001b[0m\n\u001b[1;32m      5\u001b[0m \u001b[0;34m\u001b[0m\u001b[0m\n",
      "\u001b[0;31mNameError\u001b[0m: name 'C' is not defined"
     ]
    }
   ],
   "source": [
    "class_mapping = C.class_mapping\n",
    "\n",
    "# add background class if not included in the class mapping\n",
    "if 'bg' not in class_mapping: class_mapping['bg'] = len(class_mapping)\n",
    "\n",
    "class_mapping = {v: k for k, v in class_mapping.items()}\n",
    "print(class_mapping)\n",
    "\n",
    "class_to_color = { class_mapping[v]: \n",
    "                    np.random.randint(0, 255, 3) for v in class_mapping }\n",
    "\n",
    "C.num_rois = int(options.num_rois)\n",
    "\n",
    "# number of features based on the network architecture specified in the confi\n",
    "if C.network == 'resnet50': num_features = 1024\n",
    "elif C.network == 'vgg': num_features = 512\n",
    "\n",
    "# dimension ordering with Tensorflow \n",
    "input_shape_img = (None, None, 3)\n",
    "input_shape_features = (None, None, num_features)"
   ]
  },
  {
   "cell_type": "markdown",
   "metadata": {},
   "source": [
    "# Models"
   ]
  },
  {
   "cell_type": "code",
   "execution_count": 8,
   "metadata": {},
   "outputs": [
    {
     "ename": "NameError",
     "evalue": "name 'Input' is not defined",
     "output_type": "error",
     "traceback": [
      "\u001b[0;31m---------------------------------------------------------------------------\u001b[0m",
      "\u001b[0;31mNameError\u001b[0m                                 Traceback (most recent call last)",
      "\u001b[0;32m<ipython-input-8-85f5a5eb4082>\u001b[0m in \u001b[0;36m<module>\u001b[0;34m()\u001b[0m\n\u001b[0;32m----> 1\u001b[0;31m \u001b[0mimg_input\u001b[0m \u001b[0;34m=\u001b[0m \u001b[0mInput\u001b[0m\u001b[0;34m(\u001b[0m\u001b[0mshape\u001b[0m\u001b[0;34m=\u001b[0m\u001b[0minput_shape_img\u001b[0m\u001b[0;34m)\u001b[0m\u001b[0;34m\u001b[0m\u001b[0m\n\u001b[0m\u001b[1;32m      2\u001b[0m \u001b[0mroi_input\u001b[0m \u001b[0;34m=\u001b[0m \u001b[0mInput\u001b[0m\u001b[0;34m(\u001b[0m\u001b[0mshape\u001b[0m\u001b[0;34m=\u001b[0m\u001b[0;34m(\u001b[0m\u001b[0mC\u001b[0m\u001b[0;34m.\u001b[0m\u001b[0mnum_rois\u001b[0m\u001b[0;34m,\u001b[0m \u001b[0;36m4\u001b[0m\u001b[0;34m)\u001b[0m\u001b[0;34m)\u001b[0m\u001b[0;34m\u001b[0m\u001b[0m\n\u001b[1;32m      3\u001b[0m \u001b[0mfeature_map_input\u001b[0m \u001b[0;34m=\u001b[0m \u001b[0mInput\u001b[0m\u001b[0;34m(\u001b[0m\u001b[0mshape\u001b[0m\u001b[0;34m=\u001b[0m\u001b[0minput_shape_features\u001b[0m\u001b[0;34m)\u001b[0m\u001b[0;34m\u001b[0m\u001b[0m\n\u001b[1;32m      4\u001b[0m \u001b[0;34m\u001b[0m\u001b[0m\n\u001b[1;32m      5\u001b[0m \u001b[0;31m# define the base network (resnet here, can be VGG, Inception, etc)\u001b[0m\u001b[0;34m\u001b[0m\u001b[0;34m\u001b[0m\u001b[0m\n",
      "\u001b[0;31mNameError\u001b[0m: name 'Input' is not defined"
     ]
    }
   ],
   "source": [
    "img_input = Input(shape=input_shape_img)\n",
    "roi_input = Input(shape=(C.num_rois, 4))\n",
    "feature_map_input = Input(shape=input_shape_features)\n",
    "\n",
    "# define the base network (resnet here, can be VGG, Inception, etc)\n",
    "shared_layers = nn.nn_base(img_input, trainable=True)\n",
    "num_anchors = len(C.anchor_box_scales) * len(C.anchor_box_ratios)"
   ]
  },
  {
   "cell_type": "code",
   "execution_count": null,
   "metadata": {
    "collapsed": true
   },
   "outputs": [],
   "source": [
    "# define the RPN\n",
    "rpn_layers = nn.rpn(shared_layers, num_anchors)\n",
    "\n",
    "# define the classifier \n",
    "classifier = nn.classifier(feature_map_input, roi_input, C.num_rois, \n",
    "                           nb_classes=len(class_mapping), trainable=True)\n",
    "\n",
    "# define network models\n",
    "model_rpn = Model(img_input, rpn_layers)\n",
    "model_classifier_only = Model([feature_map_input, roi_input], classifier)\n",
    "model_classifier = Model([feature_map_input, roi_input], classifier)\n",
    "\n",
    "# load model weights\n",
    "print('Loading weights from {}'.format(C.model_path))\n",
    "model_rpn.load_weights(C.model_path, by_name=True)\n",
    "model_classifier.load_weights(C.model_path, by_name=True)\n",
    "\n",
    "# compile models \n",
    "model_rpn.compile(optimizer='sgd', loss='mse')\n",
    "model_classifier.compile(optimizer='sgd', loss='mse')"
   ]
  },
  {
   "cell_type": "markdown",
   "metadata": {},
   "source": [
    "# Test Video"
   ]
  },
  {
   "cell_type": "code",
   "execution_count": null,
   "metadata": {
    "collapsed": true
   },
   "outputs": [],
   "source": [
    "# video reader\n",
    "cap = cv2.VideoCapture('/home/inavarro/Desktop/keras/images/wheelchair_videos/wheelchair_video_10.MP4')\n",
    "\n",
    "# video writer (DOESN'T WORK)\n",
    "# fourcc = cv2.cv.CV_FOURCC(*'XVID')\n",
    "# fourcc = cv2.VideoWriter_fourcc(*'XVID')\n",
    "# fourcc = cv2.VideoWriter_fourcc('M','P','4','2')\n",
    "# out_vid = cv2.VideoWriter('wheelchair_detection_test2.MP4', fourcc, 10.0, (600, 480))\n",
    "\n",
    "x = 0\n",
    "curr_frame = 0\n",
    "last_frame = -10\n",
    "cv2.namedWindow('frame', cv2.WINDOW_NORMAL)\n",
    "cv2.resizeWindow('frame', 600, 480)\n",
    "\n",
    "while(cap.isOpened()):\n",
    "    \n",
    "    ret, frame = cap.read()\n",
    "    # gray = cv2.cvtColor(frame, cv2.COLOR_BGR2GRAY)\n",
    "    # cv2.imshow('frame', frame) \n",
    "    curr_frame = cap.get(1) # (cv2.CV_CAP_PROP_POS_FRAMES)\n",
    "    if curr_frame == (last_frame + 11):\n",
    "        \n",
    "        last_frame = curr_frame\n",
    "        \n",
    "        X, ratio = format_frame(frame, C)    \n",
    "        st = time.time()\n",
    "        # transpose image with tensorflow \n",
    "        X = np.transpose(X, (0, 2, 3, 1))\n",
    "        \n",
    "        # get the feature maps and output from the RPN\n",
    "        [Y1, Y2, F] = model_rpn.predict(X)\n",
    "        \n",
    "        # convert from rpn to roi \n",
    "        R = roi_helpers.rpn_to_roi(Y1, Y2, C, K.image_dim_ordering(), overlap_thresh=0.7)\n",
    "        \n",
    "        # convert from (x1,y1,x2,y2) to (x,y,w,h)\n",
    "        R[:, 2] -= R[:, 0]\n",
    "        R[:, 3] -= R[:, 1]    \n",
    "        \n",
    "        # apply the spatial pyramid pooling (SPP) to the proposed regions\n",
    "        bboxes = {}\n",
    "        probs = {}\n",
    "        \n",
    "        for jk in range(R.shape[0]//C.num_rois + 1):\n",
    "            ROIs = np.expand_dims(R[C.num_rois*jk:C.num_rois*(jk+1), :], axis=0)\n",
    "            \n",
    "            if ROIs.shape[1] == 0:\n",
    "                break\n",
    "            \n",
    "            if jk == R.shape[0]//C.num_rois:\n",
    "                #pad R\n",
    "                curr_shape = ROIs.shape\n",
    "                target_shape = (curr_shape[0], C.num_rois, curr_shape[2])\n",
    "                ROIs_padded = np.zeros(target_shape).astype(ROIs.dtype)\n",
    "                ROIs_padded[:, :curr_shape[1], :] = ROIs\n",
    "                ROIs_padded[0, curr_shape[1]:, :] = ROIs[0, 0, :]\n",
    "                ROIs = ROIs_padded\n",
    "                \n",
    "            # predict class and bbox regresor\n",
    "            [P_cls, P_regr] = model_classifier_only.predict([F, ROIs])\n",
    "            \n",
    "            for ii in range(P_cls.shape[1]):\n",
    "                \n",
    "                if np.max(P_cls[0, ii, :]) < bbox_threshold or np.argmax(P_cls[0, ii, :]) == (P_cls.shape[2] - 1):\n",
    "                    continue\n",
    "                \n",
    "                cls_name = class_mapping[np.argmax(P_cls[0, ii, :])]\n",
    "                \n",
    "                if cls_name not in bboxes:\n",
    "                    bboxes[cls_name] = []\n",
    "                    probs[cls_name] = []\n",
    "                    \n",
    "                (x, y, w, h) = ROIs[0, ii, :]\n",
    "                    \n",
    "                cls_num = np.argmax(P_cls[0, ii, :])\n",
    "                    \n",
    "                try:\n",
    "                    (tx, ty, tw, th) = P_regr[0, ii, 4*cls_num:4*(cls_num+1)]\n",
    "                    tx /= C.classifier_regr_std[0]\n",
    "                    ty /= C.classifier_regr_std[1]\n",
    "                    tw /= C.classifier_regr_std[2]\n",
    "                    th /= C.classifier_regr_std[3]\n",
    "                    x, y, w, h = roi_helpers.apply_regr(x, y, w, h, tx, ty, tw, th)\n",
    "                except:\n",
    "                    pass\n",
    "                    \n",
    "                bboxes[cls_name].append([C.rpn_stride*x, C.rpn_stride*y, \n",
    "                                             C.rpn_stride*(x+w), C.rpn_stride*(y+h)])\n",
    "                \n",
    "                probs[cls_name].append(np.max(P_cls[0, ii, :]))\n",
    "                    \n",
    "    all_dets = []\n",
    "    \n",
    "    for key in bboxes:\n",
    "        bbox = np.array(bboxes[key])\n",
    "        \n",
    "        # reduce redundancy with NMS \n",
    "        new_boxes, new_probs = roi_helpers.non_max_suppression_fast(bbox, np.array(probs[key]), overlap_thresh=0.5)\n",
    "        \n",
    "        for jk in range(new_boxes.shape[0]):\n",
    "        \n",
    "            # get coordinates       \n",
    "            (x1, y1, x2, y2) = new_boxes[jk,:]\n",
    "            \n",
    "            # get real coordinates \n",
    "            (real_x1, real_y1, real_x2, real_y2) = get_real_coordinates(ratio, x1, y1, x2, y2)\n",
    "                        \n",
    "            # draw rectangle where bbox was predicted\n",
    "            cv2.rectangle(frame, \n",
    "                          (real_x1, real_y1), \n",
    "                          (real_x2, real_y2), \n",
    "                          (int(class_to_color[key][0]), \n",
    "                           int(class_to_color[key][1]), \n",
    "                           int(class_to_color[key][2])),2)\n",
    "                           \n",
    "            # create text label \n",
    "            textLabel = '{}: {}'.format(key,float(\"{0:.3f}\".format(new_probs[jk])))\n",
    "            all_dets.append((key, float(\"{0:.4f}\".format(new_probs[jk]))))\n",
    "            (retval, baseLine) = cv2.getTextSize(textLabel, cv2.FONT_HERSHEY_PLAIN,1, 1)\n",
    "            textOrg = (real_x1, real_y1-0)  \n",
    "            \n",
    "            # create text with predicted class \n",
    "            cv2.rectangle(frame, \n",
    "                          (textOrg[0] - 5, textOrg[1] + baseLine - 5), \n",
    "                          (textOrg[0] + retval[0] + 5, textOrg[1] - retval[1] - 5), \n",
    "                          (0, 0, 0), 2)\n",
    "                          \n",
    "            # create rectangle for text label \n",
    "            cv2.rectangle(frame, \n",
    "                          (textOrg[0] - 5, textOrg[1]+ baseLine - 5), \n",
    "                          (textOrg[0] + retval[0] + 5, textOrg[1] - retval[1] - 5), \n",
    "                          (int(class_to_color[key][0]), \n",
    "                           int(class_to_color[key][1]), \n",
    "                           int(class_to_color[key][2])), -1)\n",
    "            \n",
    "            # add text tabel to image\n",
    "            cv2.putText(frame, textLabel, textOrg, cv2.FONT_HERSHEY_SIMPLEX, 0.5, (0, 0, 0), 1)\n",
    "            \n",
    "    # show image and prediction time \n",
    "    print('Elapsed time = {}'.format(time.time() - st))\n",
    "    print(all_dets)\n",
    "    \n",
    "    cv2.imshow('frame', frame)\n",
    "    # cv2.imwrite('./results/vid1/video_detected_{}.png'.format(x),frame)\n",
    "    # out_vid.write(frame)\n",
    "    if cv2.waitKey(1) & 0xFF == ord('q'):\n",
    "        break\n",
    "\n",
    "cap.release()  \n",
    "# out_vid.release()\n",
    "cv2.destroyAllWindows()"
   ]
  }
 ],
 "metadata": {
  "kernelspec": {
   "display_name": "Python 2",
   "language": "python",
   "name": "python2"
  },
  "language_info": {
   "codemirror_mode": {
    "name": "ipython",
    "version": 2
   },
   "file_extension": ".py",
   "mimetype": "text/x-python",
   "name": "python",
   "nbconvert_exporter": "python",
   "pygments_lexer": "ipython2",
   "version": "2.7.12"
  }
 },
 "nbformat": 4,
 "nbformat_minor": 2
}
