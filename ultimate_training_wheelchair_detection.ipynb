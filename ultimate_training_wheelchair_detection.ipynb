{
 "cells": [
  {
   "cell_type": "markdown",
   "metadata": {},
   "source": [
    "# Wheelchair detection training \n",
    "\n",
    "In this project, I present a Faster RCNN-based wheelchair detection system. This code performs the training and mAP accuracy measurements. "
   ]
  },
  {
   "cell_type": "markdown",
   "metadata": {},
   "source": [
    "First, modules: "
   ]
  },
  {
   "cell_type": "code",
   "execution_count": 1,
   "metadata": {},
   "outputs": [
    {
     "name": "stderr",
     "output_type": "stream",
     "text": [
      "Using TensorFlow backend.\n",
      "/usr/local/lib/python2.7/dist-packages/pandas/core/computation/__init__.py:18: UserWarning: The installed version of numexpr 2.4.3 is not supported in pandas and will be not be used\n",
      "The minimum supported version is 2.4.6\n",
      "\n",
      "  ver=ver, min_ver=_MIN_NUMEXPR_VERSION), UserWarning)\n"
     ]
    }
   ],
   "source": [
    "from __future__ import division\n",
    "import random\n",
    "import pprint\n",
    "import sys\n",
    "import time\n",
    "import numpy as np\n",
    "import pickle\n",
    "import cv2\n",
    "import matplotlib.pyplot as plt\n",
    "from sklearn.metrics import average_precision_score\n",
    "from optparse import OptionParser\n",
    "from keras import backend as K\n",
    "from keras.optimizers import Adam #, SGD, RMSprop\n",
    "from keras.layers import Input\n",
    "from keras.models import Model\n",
    "from keras_frcnn import config, data_generators\n",
    "from keras_frcnn import losses as losses\n",
    "from keras.utils import generic_utils, plot_model \n",
    "import keras_frcnn.roi_helpers as roi_helpers\n",
    "sys.setrecursionlimit(40000)"
   ]
  },
  {
   "cell_type": "markdown",
   "metadata": {
    "collapsed": true
   },
   "source": [
    "Specifying parser options"
   ]
  },
  {
   "cell_type": "code",
   "execution_count": null,
   "metadata": {
    "collapsed": true
   },
   "outputs": [],
   "source": [
    "parser = OptionParser()\n",
    "\n",
    "parser.add_option(\"-p\", \"--path\", dest=\"train_path\", help=\"Path to training data.\")\n",
    "\n",
    "parser.add_option(\"-o\", \n",
    "                 \"--parser\", \n",
    "                  dest=\"parser\", \n",
    "                  help=\"Parser to use. One of simple or pascal_voc\",\n",
    "                  default=\"pascal_voc\")\n",
    "\n",
    "parser.add_option(\"-n\", \n",
    "                  \"--num_rois\", \n",
    "                  dest=\"num_rois\", \n",
    "                  help=\"Number of RoIs to process at once.\", \n",
    "                  default=32)\n",
    "\n",
    "parser.add_option(\"--network\", \n",
    "                  dest=\"network\", \n",
    "                  help=\"Base network to use. Supports vgg or resnet50.\", \n",
    "                  default='resnet50')\n",
    "\n",
    "parser.add_option(\"--hf\", \n",
    "                  dest=\"horizontal_flips\", \n",
    "                  help=\"Augment with horizontal flips in training. (Default=false).\", \n",
    "                  action=\"store_true\", \n",
    "                  default=False)\n",
    "\n",
    "parser.add_option(\"--vf\", \n",
    "                  dest=\"vertical_flips\", \n",
    "                  help=\"Augment with vertical flips in training. (Default=false).\", \n",
    "                  action=\"store_true\", \n",
    "                  default=False)\n",
    "\n",
    "parser.add_option(\"--rot\", \"--rot_90\", \n",
    "                  dest=\"rot_90\", \n",
    "                  help=\"Augment with 90 degree rotations in training. (Default=false).\",\n",
    "                  action=\"store_true\", \n",
    "                  default=False)\n",
    "\n",
    "parser.add_option(\"--num_epochs\", \n",
    "                  dest=\"num_epochs\", \n",
    "                  help=\"Number of epochs.\", \n",
    "                  default=2000)\n",
    "\n",
    "parser.add_option(\"--config_filename\", \n",
    "                  dest=\"config_filename\",\n",
    "                  help=\"Location to store all the metadata related to the training (to be used when testing).\",\n",
    "                  default=\"config.pickle\")\n",
    "\n",
    "parser.add_option(\"--output_weight_path\", \n",
    "                  dest=\"output_weight_path\", \n",
    "                  help=\"Output path for weights.\", \n",
    "                  default='./model_frcnn.hdf5')\n",
    "\n",
    "parser.add_option(\"--input_weight_path\", \n",
    "                  dest=\"input_weight_path\", \n",
    "                  help=\"Input path for weights. If not specified, will try to load default weights provided by keras.\")\n",
    "\n",
    "(options, args) = parser.parse_args()\n"
   ]
  }
 ],
 "metadata": {
  "kernelspec": {
   "display_name": "Python 2",
   "language": "python",
   "name": "python2"
  },
  "language_info": {
   "codemirror_mode": {
    "name": "ipython",
    "version": 2
   },
   "file_extension": ".py",
   "mimetype": "text/x-python",
   "name": "python",
   "nbconvert_exporter": "python",
   "pygments_lexer": "ipython2",
   "version": "2.7.12"
  }
 },
 "nbformat": 4,
 "nbformat_minor": 2
}
